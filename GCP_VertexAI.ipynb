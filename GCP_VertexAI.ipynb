{
  "nbformat": 4,
  "nbformat_minor": 0,
  "metadata": {
    "colab": {
      "provenance": [],
      "gpuType": "T4"
    },
    "kernelspec": {
      "name": "python3",
      "display_name": "Python 3"
    },
    "language_info": {
      "name": "python"
    },
    "accelerator": "GPU"
  },
  "cells": [
    {
      "cell_type": "code",
      "execution_count": 1,
      "metadata": {
        "colab": {
          "base_uri": "https://localhost:8080/"
        },
        "id": "5sylF5TPMVdn",
        "outputId": "98c0cacc-7a06-41fb-8159-c757a9aebce1"
      },
      "outputs": [
        {
          "output_type": "stream",
          "name": "stdout",
          "text": [
            "ERROR: unknown command \"intall\" - maybe you meant \"install\"\n"
          ]
        }
      ],
      "source": [
        "!pip install --upgrade --user google-cloud-aiplatform"
      ]
    },
    {
      "cell_type": "code",
      "source": [
        "!pip install ragstack-ai"
      ],
      "metadata": {
        "id": "CjyMxkyXMfnx"
      },
      "execution_count": null,
      "outputs": []
    },
    {
      "cell_type": "code",
      "source": [
        "from google.colab import userdata\n",
        "PROJECT_ID=userdata.get('PROJECT_ID')"
      ],
      "metadata": {
        "id": "w1H101VmMn-H"
      },
      "execution_count": null,
      "outputs": []
    },
    {
      "cell_type": "code",
      "source": [
        "from google.colab import userdata\n",
        "LOCATION=userdata.get('LOCATION')"
      ],
      "metadata": {
        "id": "R1nXQELKMqf7"
      },
      "execution_count": null,
      "outputs": []
    },
    {
      "cell_type": "code",
      "source": [
        "import os"
      ],
      "metadata": {
        "id": "SaeswnaFMsSF"
      },
      "execution_count": null,
      "outputs": []
    },
    {
      "cell_type": "code",
      "source": [
        "os.environ[\"GCP_PROJECT_ID\"]=PROJECT_ID"
      ],
      "metadata": {
        "id": "BS__BoRrMvDI"
      },
      "execution_count": null,
      "outputs": []
    },
    {
      "cell_type": "code",
      "source": [
        "os.environ[\"LOCATION\"]=LOCATION"
      ],
      "metadata": {
        "id": "4xMZnSHoMwGA"
      },
      "execution_count": null,
      "outputs": []
    },
    {
      "cell_type": "code",
      "source": [
        "!gcloud config set project {os.getenv(\"GCP_PROJECT_ID\")}"
      ],
      "metadata": {
        "id": "c-PEDdn6MxWo"
      },
      "execution_count": null,
      "outputs": []
    },
    {
      "cell_type": "code",
      "source": [
        "import sys\n",
        "\n",
        "if \"google.colab\" in sys.modules:\n",
        "  from google.colab import auth as google_auth\n",
        "  google_auth.authenticate_user()"
      ],
      "metadata": {
        "id": "QP_qJ0bxMyvC"
      },
      "execution_count": null,
      "outputs": []
    },
    {
      "cell_type": "code",
      "source": [
        "!gcloud auth list"
      ],
      "metadata": {
        "id": "3XuMdriTNC0s"
      },
      "execution_count": null,
      "outputs": []
    },
    {
      "cell_type": "code",
      "source": [
        "import vertexai"
      ],
      "metadata": {
        "id": "3u69gxs6NG0Y"
      },
      "execution_count": null,
      "outputs": []
    },
    {
      "cell_type": "code",
      "source": [
        "vertexai.init(project=PROJECT_ID, location=LOCATION)"
      ],
      "metadata": {
        "id": "2eLVH6sTNJjB"
      },
      "execution_count": null,
      "outputs": []
    },
    {
      "cell_type": "code",
      "source": [
        "from vertexai.preview.generative_models import GenerativeModel"
      ],
      "metadata": {
        "id": "28ja2pXVNKfI"
      },
      "execution_count": null,
      "outputs": []
    },
    {
      "cell_type": "code",
      "source": [
        "model = GenerativeModel(\"gemini-1.0-pro\")"
      ],
      "metadata": {
        "id": "7IZvSwH2NQWI"
      },
      "execution_count": null,
      "outputs": []
    },
    {
      "cell_type": "code",
      "source": [
        "response = model.generate_content(\"What is =Artificial Intelligence?\")"
      ],
      "metadata": {
        "id": "DKpIgBORNWLu"
      },
      "execution_count": null,
      "outputs": []
    },
    {
      "cell_type": "code",
      "source": [
        "response"
      ],
      "metadata": {
        "id": "poRp8eOJNb6y"
      },
      "execution_count": null,
      "outputs": []
    },
    {
      "cell_type": "code",
      "source": [
        "for r in response:\n",
        "  print(r.text,end=\"\")"
      ],
      "metadata": {
        "id": "bdS3H2UPNi8G"
      },
      "execution_count": null,
      "outputs": []
    },
    {
      "cell_type": "markdown",
      "source": [
        "**RAG SYSTEM**\n",
        "\n",
        "Using DataStax vector Database cloud service"
      ],
      "metadata": {
        "id": "wBDRxN9AN54q"
      }
    },
    {
      "cell_type": "code",
      "source": [
        "# Initialize DB Endpoint and Token\n",
        "ASTRA_DB_API_ENDPOINT= \"https://ENDPOINT\"\n",
        "ASTRA_DB_APPLICATION_TOKEN=\"TOKEN\""
      ],
      "metadata": {
        "id": "2iY4DGolPGo5"
      },
      "execution_count": null,
      "outputs": []
    },
    {
      "cell_type": "code",
      "source": [
        "os.environ[\"ASTRA_DB_ENDPOINT\"]=ASTRA_DB_API_ENDPOINT"
      ],
      "metadata": {
        "id": "f-k9K0RHO9qx"
      },
      "execution_count": null,
      "outputs": []
    },
    {
      "cell_type": "code",
      "source": [
        "os.environ[\"ASTRA_DB_TOKEN\"]=ASTRA_DB_APPLICATION_TOKEN"
      ],
      "metadata": {
        "id": "X7yTRxkwO_73"
      },
      "execution_count": null,
      "outputs": []
    },
    {
      "cell_type": "code",
      "source": [
        "from vertexai.preview.generative_models import (\n",
        "    GenerationConfig,\n",
        "    GenerativeModel,\n",
        "    HarmCategory,\n",
        "    HarmBlockThreshold,\n",
        "    Image,\n",
        "    Part\n",
        ")"
      ],
      "metadata": {
        "id": "En4tgTHgPX3-"
      },
      "execution_count": null,
      "outputs": []
    },
    {
      "cell_type": "code",
      "source": [
        "prompt = \"\"\"Create a list of 10 items. Item in the list should be  in the tech industry trend.\n",
        "\n",
        "Each trend should be less than 5 words.\"\"\""
      ],
      "metadata": {
        "id": "byUc9kCtPZU8"
      },
      "execution_count": null,
      "outputs": []
    },
    {
      "cell_type": "code",
      "source": [
        "response = model.generate_content(prompt,stream=True)"
      ],
      "metadata": {
        "id": "n4GkUQ5VPpXd"
      },
      "execution_count": null,
      "outputs": []
    },
    {
      "cell_type": "code",
      "source": [
        "for response in response:\n",
        "  print(response.text, end = \"\")"
      ],
      "metadata": {
        "id": "WCa93lUiPzit"
      },
      "execution_count": null,
      "outputs": []
    },
    {
      "cell_type": "code",
      "source": [
        "# Generation config for precies output\n",
        "generation_config = GenerationConfig(\n",
        "    temperature=0.9,\n",
        "    top_p=1.0,\n",
        "    top_k=32,\n",
        "    candidate_count=1,\n",
        "    max_output_tokens=8192\n",
        ")"
      ],
      "metadata": {
        "id": "lxWAPVaIP8ZL"
      },
      "execution_count": null,
      "outputs": []
    },
    {
      "cell_type": "code",
      "source": [
        "response=model.generate_content(prompt,generation_config=generation_config, stream=True)"
      ],
      "metadata": {
        "id": "u5W9t2RQQUQe"
      },
      "execution_count": null,
      "outputs": []
    },
    {
      "cell_type": "code",
      "source": [
        "for response in response:\n",
        "  print(response.text, end=\"\")"
      ],
      "metadata": {
        "id": "A_FbpSW3Qdgo"
      },
      "execution_count": null,
      "outputs": []
    },
    {
      "cell_type": "code",
      "source": [
        "import requests"
      ],
      "metadata": {
        "id": "DIWbG0wNQkdg"
      },
      "execution_count": null,
      "outputs": []
    },
    {
      "cell_type": "code",
      "source": [
        "source_img_data =requests.get(\"https://drive.google.com/uc?export=view&id=15ddcn-AIxpvRdWcFGvIr77XLWdo4Maof\").content"
      ],
      "metadata": {
        "id": "Bd02lGEuQkys"
      },
      "execution_count": null,
      "outputs": []
    },
    {
      "cell_type": "code",
      "source": [
        "with open('coffee_maker_part.png', 'wb') as handler:\n",
        "  handler.write(source_img_data)"
      ],
      "metadata": {
        "id": "qYfw5SPOQsvV"
      },
      "execution_count": null,
      "outputs": []
    },
    {
      "cell_type": "code",
      "source": [
        "from langchain_google_vertexai import ChatVertexAI"
      ],
      "metadata": {
        "id": "WBvtPXZkQ-et"
      },
      "execution_count": null,
      "outputs": []
    },
    {
      "cell_type": "code",
      "source": [
        "from langchain.schema.messages import HumanMessage\n",
        "from PIL import Image, ImageFile\n",
        "import os, sys"
      ],
      "metadata": {
        "id": "eTX_y4Z6REin"
      },
      "execution_count": null,
      "outputs": []
    },
    {
      "cell_type": "code",
      "source": [
        "chat = ChatVertexAI(model_name=\"gemini-1.0-pro-vision\")"
      ],
      "metadata": {
        "id": "Wlf4iEbNROp4"
      },
      "execution_count": null,
      "outputs": []
    },
    {
      "cell_type": "code",
      "source": [
        "image_message = {\n",
        "    \"type\": \"image_url\",\n",
        "    \"image_url\": {\"url\": \"coffee_maker_part.png\"},\n",
        "}\n",
        "text_message = {\n",
        "    \"type\": \"text\",\n",
        "    \"text\": \"What is this image? Share a link to purchase a replacement\",\n",
        "}"
      ],
      "metadata": {
        "id": "lenG6Y5QRW1S"
      },
      "execution_count": null,
      "outputs": []
    },
    {
      "cell_type": "code",
      "source": [
        "message = HumanMessage(content=[text_message, image_message])"
      ],
      "metadata": {
        "id": "Ag4zKpFYRYMe"
      },
      "execution_count": null,
      "outputs": []
    },
    {
      "cell_type": "code",
      "source": [
        "message"
      ],
      "metadata": {
        "id": "VDxp2Ka0Rigj"
      },
      "execution_count": null,
      "outputs": []
    },
    {
      "cell_type": "code",
      "source": [
        "print(chat([message]).content)"
      ],
      "metadata": {
        "id": "dMgksIsXRjzY"
      },
      "execution_count": null,
      "outputs": []
    },
    {
      "cell_type": "markdown",
      "source": [
        "RAG: Pass the image and based on that i can take a recommendation from my model."
      ],
      "metadata": {
        "id": "maA1F3hRRrUt"
      }
    },
    {
      "cell_type": "code",
      "source": [
        "import pandas as pd\n",
        "\n",
        "d = {'name': [\"Saucer\", \"Saucer Ceramic\", \"Milk Jug Assembly\", \"Handle Steam Wand Kit (New Version From 0735 PDC)\", \"Spout Juice Small (From 0637 to 1041 PDC)\", \"Cleaning Steam Wand\", \"Jug Frothing\", \"Spoon Tamping 50mm\", \"Collar Grouphead 50mm\", \"Filter 2 Cup Dual Wall 50mm\", \"Filter 1 Cup 50mm\", \"Water Tank Assembly\", \"Portafilter Assembly 50mm\", \"Milk Jug Assembly\", \"Filter 2 Cup 50mm\" ],\n",
        "     'url': [\"https://www.breville.com/us/en/parts-accessories/parts/sp0014946.html?sku=SP0014946\", \"https://www.breville.com/us/en/parts-accessories/parts/sp0014914.html?sku=SP0014914\", \"https://www.breville.com/us/en/parts-accessories/parts/sp0011391.html?sku=SP0011391\", \"https://www.breville.com/us/en/parts-accessories/parts/sp0010719.html?sku=SP0010719\", \"https://www.breville.com/us/en/parts-accessories/parts/sp0010718.html?sku=SP0010718\", \"https://www.breville.com/us/en/parts-accessories/parts/sp0003247.html?sku=SP0003247\", \"https://www.breville.com/us/en/parts-accessories/parts/sp0003246.html?sku=SP0003246\", \"https://www.breville.com/us/en/parts-accessories/parts/sp0003243.html?sku=SP0003243\", \"https://www.breville.com/us/en/parts-accessories/parts/sp0003232.html?sku=SP0003232\", \"https://www.breville.com/us/en/parts-accessories/parts/sp0003231.html?sku=SP0003231\", \"https://www.breville.com/us/en/parts-accessories/parts/sp0003230.html?sku=SP0003230\", \"https://www.breville.com/us/en/parts-accessories/parts/sp0003225.html?sku=SP0003225\", \"https://www.breville.com/us/en/parts-accessories/parts/sp0003216.html?sku=SP0003216\", \"https://www.breville.com/us/en/parts-accessories/parts/sp0001875.html?sku=SP0001875\", \"https://www.breville.com/us/en/parts-accessories/parts/sp0000166.html?sku=SP0000166\"],\n",
        "     'price': [\"10.95\", \"4.99\", \"14.95\", \"8.95\", \"10.95\", \"6.95\", \"24.95\", \"8.95\", \"6.95\", \"12.95\", \"12.95\", \"14.95\", \"10.95\", \"16.95\", \"11.95\"],\n",
        "     'image': [\"https://www.breville.com/content/dam/breville/us/catalog/products/images/sp0/sp0014946/tile.jpg\", \"https://www.breville.com/content/dam/breville/us/catalog/products/images/sp0/sp0014914/tile.jpg\", \"https://www.breville.com/content/dam/breville/us/catalog/products/images/sp0/sp0011391/tile.jpg\", \"https://www.breville.com/content/dam/breville/ca/catalog/products/images/sp0/sp0010719/tile.jpg\", \"https://www.breville.com/content/dam/breville/ca/catalog/products/images/sp0/sp0010718/tile.jpg\", \"https://www.breville.com/content/dam/breville/ca/catalog/products/images/sp0/sp0003247/tile.jpg\", \"https://assets.breville.com/cdn-cgi/image/width=400,format=auto/Spare+Parts+/Espresso+Machines/BES250/SP0003246/SP0003246_IMAGE1_400X400.jpg\", \"https://assets.breville.com/cdn-cgi/image/width=400,format=auto/Spare+Parts+/Espresso+Machines/ESP8/SP0003243/SP0003243_IMAGE1_400X400.jpg\", \"https://assets.breville.com/cdn-cgi/image/width=400,format=auto/Spare+Parts+/Espresso+Machines/ESP8/SP0003232/SP0003232_IMAGE1_400x400.jpg\", \"https://www.breville.com/content/dam/breville/au/catalog/products/images/sp0/sp0003231/tile.jpg\", \"https://www.breville.com/content/dam/breville/au/catalog/products/images/sp0/sp0003230/tile.jpg\", \"https://www.breville.com/content/dam/breville/ca/catalog/products/images/sp0/sp0003225/tile.jpg\", \"https://www.breville.com/content/dam/breville/ca/catalog/products/images/sp0/sp0003216/tile.jpg\", \"https://www.breville.com/content/dam/breville/au/catalog/products/images/sp0/sp0001875/tile.jpg\", \"https://www.breville.com/content/dam/breville/us/catalog/products/images/sp0/sp0000166/tile.jpg\"]}\n",
        "df = pd.DataFrame(data=d)\n",
        "df"
      ],
      "metadata": {
        "id": "4IbotdpsR-8V"
      },
      "execution_count": null,
      "outputs": []
    },
    {
      "cell_type": "code",
      "source": [
        "df.head()"
      ],
      "metadata": {
        "id": "Yqc74GgrSERG"
      },
      "execution_count": null,
      "outputs": []
    },
    {
      "cell_type": "code",
      "source": [
        "df[\"url\"]"
      ],
      "metadata": {
        "id": "EOXsukkNSFpJ"
      },
      "execution_count": null,
      "outputs": []
    },
    {
      "cell_type": "code",
      "source": [
        "df[\"image\"]"
      ],
      "metadata": {
        "id": "wKMI33ArSG9n"
      },
      "execution_count": null,
      "outputs": []
    },
    {
      "cell_type": "code",
      "source": [
        "import vertexai, json, requests\n",
        "from vertexai.preview.vision_models import MultiModalEmbeddingModel, Image\n",
        "from astrapy.db import AstraDB, AstraDBCollection\n",
        "from google.colab import files"
      ],
      "metadata": {
        "id": "TMD1CMgTSQb6"
      },
      "execution_count": null,
      "outputs": []
    },
    {
      "cell_type": "code",
      "source": [
        "embed_model=MultiModalEmbeddingModel.from_pretrained(\"multimodalembedding@001\")"
      ],
      "metadata": {
        "id": "nvkkENcDSh3E"
      },
      "execution_count": null,
      "outputs": []
    },
    {
      "cell_type": "code",
      "source": [
        "astra_db = AstraDB(token=os.getenv(\"ASTRA_DB_TOKEN\"), api_endpoint=os.getenv(\"ASTRA_DB_ENDPOINT\"))"
      ],
      "metadata": {
        "id": "rkp7fT4jSk1A"
      },
      "execution_count": null,
      "outputs": []
    },
    {
      "cell_type": "code",
      "source": [
        "collection =astra_db.create_collection(collection_name=\"coffee_shop_ecommerce\", dimension=1408)"
      ],
      "metadata": {
        "id": "PT2BW9tUSl-o"
      },
      "execution_count": null,
      "outputs": []
    },
    {
      "cell_type": "code",
      "source": [
        "for i in range(len(df)):\n",
        "  name = df.loc[i, \"name\"]\n",
        "  image = df.loc[i, \"image\"]\n",
        "  price = df.loc[i, \"price\"]\n",
        "  url = df.loc[i, \"url\"]\n",
        "\n",
        "  # Download this product's image and save it to the Colab filesystem.\n",
        "  # In a production system this binary data would be stored in Google Cloud Storage\n",
        "  img_data = requests.get(image).content\n",
        "  with open(f'{name}.png', 'wb') as handler:\n",
        "    handler.write(img_data)\n",
        "\n",
        "   # load the image from filesystem and compute the embedding value\n",
        "  img = Image.load_from_file(f'{name}.png')\n",
        "  embeddings = embed_model.get_embeddings(image=img, contextual_text=name)\n",
        "\n",
        "  try:\n",
        "    # add to the AstraDB Vector Database\n",
        "    collection.insert_one({\n",
        "        \"_id\": i,\n",
        "        \"name\": name,\n",
        "        \"image\": image,\n",
        "        \"url\": url,\n",
        "        \"price\": price,\n",
        "        \"$vector\": embeddings.image_embedding,\n",
        "      })\n",
        "  except Exception as error:\n",
        "    # if you've already added this record, skip the error message\n",
        "    error_info = json.loads(str(error))\n",
        "    if error_info[0]['errorCode'] == \"DOCUMENT_ALREADY_EXISTS\":\n",
        "      print(\"Document already exists in the database.  Skipping.\")"
      ],
      "metadata": {
        "id": "5xi9lrkHSrAp"
      },
      "execution_count": null,
      "outputs": []
    },
    {
      "cell_type": "code",
      "source": [
        "# similarity search between query and image embedding\n",
        "# embedding(query)"
      ],
      "metadata": {
        "id": "iLXjDQI0Svqf"
      },
      "execution_count": null,
      "outputs": []
    },
    {
      "cell_type": "code",
      "source": [],
      "metadata": {
        "id": "7DCuyDmAS8Pu"
      },
      "execution_count": null,
      "outputs": []
    },
    {
      "cell_type": "code",
      "source": [
        "import json\n",
        "\n",
        "# Embed the similar item\n",
        "img = Image.load_from_file('coffee_maker_part.png')"
      ],
      "metadata": {
        "id": "EDahbqDvSx9C"
      },
      "execution_count": null,
      "outputs": []
    },
    {
      "cell_type": "code",
      "source": [
        "embeddings = embed_model.get_embeddings(image=img, contextual_text=\"A espresso machine part\")"
      ],
      "metadata": {
        "id": "lhEBotMmS9Qz"
      },
      "execution_count": null,
      "outputs": []
    },
    {
      "cell_type": "code",
      "source": [
        "embeddings.image_embedding"
      ],
      "metadata": {
        "id": "jb2FQOgjS-oZ"
      },
      "execution_count": null,
      "outputs": []
    },
    {
      "cell_type": "code",
      "source": [
        "documents =collection.vector_find(\n",
        "    embeddings.image_embedding,\n",
        "    limit=3\n",
        ")"
      ],
      "metadata": {
        "id": "3eA3OrZiTAI2"
      },
      "execution_count": null,
      "outputs": []
    },
    {
      "cell_type": "code",
      "source": [
        "documents[0]"
      ],
      "metadata": {
        "id": "TxQadpncTB6T"
      },
      "execution_count": null,
      "outputs": []
    },
    {
      "cell_type": "code",
      "source": [
        "documents[1]"
      ],
      "metadata": {
        "id": "zVwq--ncTDo1"
      },
      "execution_count": null,
      "outputs": []
    },
    {
      "cell_type": "code",
      "source": [
        "documents[2]"
      ],
      "metadata": {
        "id": "9mzlMIITTE4D"
      },
      "execution_count": null,
      "outputs": []
    },
    {
      "cell_type": "code",
      "source": [
        "related_products_csv = \"name, image, price, url\\n\""
      ],
      "metadata": {
        "id": "X-eLCZPLTGRG"
      },
      "execution_count": null,
      "outputs": []
    },
    {
      "cell_type": "code",
      "source": [
        "for doc in documents:\n",
        "  related_products_csv += f\"{doc['name']}, {doc['image']}, {doc['price']}, {doc['url']},\\n\""
      ],
      "metadata": {
        "id": "pZiCiqyBTH4n"
      },
      "execution_count": null,
      "outputs": []
    },
    {
      "cell_type": "code",
      "source": [
        "print(related_products_csv)"
      ],
      "metadata": {
        "id": "zBM2z5TNTJOY"
      },
      "execution_count": null,
      "outputs": []
    },
    {
      "cell_type": "code",
      "source": [
        "image_message = {\n",
        "    \"type\": \"image_url\",\n",
        "    \"image_url\": {\"url\": \"/content/coffee_maker_part.png\"},\n",
        "}"
      ],
      "metadata": {
        "id": "IyMmlUEQTMX5"
      },
      "execution_count": null,
      "outputs": []
    },
    {
      "cell_type": "code",
      "source": [
        "text_message = {\n",
        "    \"type\": \"text\",\n",
        "    \"text\": f\"What we have in this image? Share the URL and price to purchase a replacement.Here are related products {related_products_csv} \",\n",
        "}"
      ],
      "metadata": {
        "id": "pVEmqM58TNuU"
      },
      "execution_count": null,
      "outputs": []
    },
    {
      "cell_type": "code",
      "source": [
        "message = HumanMessage(content=[text_message, image_message])"
      ],
      "metadata": {
        "id": "vwTH1jmuTO8D"
      },
      "execution_count": null,
      "outputs": []
    },
    {
      "cell_type": "code",
      "source": [
        "chat = ChatVertexAI(model_name=\"gemini-1.0-pro-vision\")"
      ],
      "metadata": {
        "id": "mUQqOQEsTUPp"
      },
      "execution_count": null,
      "outputs": []
    },
    {
      "cell_type": "code",
      "source": [
        "output=chat([message])"
      ],
      "metadata": {
        "id": "ajpjaqNmTVTu"
      },
      "execution_count": null,
      "outputs": []
    },
    {
      "cell_type": "code",
      "source": [
        "output=chat([message])"
      ],
      "metadata": {
        "id": "N5RQA0zBTWsl"
      },
      "execution_count": null,
      "outputs": []
    },
    {
      "cell_type": "code",
      "source": [
        "print(output)"
      ],
      "metadata": {
        "id": "fmoPp9x0TX7J"
      },
      "execution_count": null,
      "outputs": []
    }
  ]
}